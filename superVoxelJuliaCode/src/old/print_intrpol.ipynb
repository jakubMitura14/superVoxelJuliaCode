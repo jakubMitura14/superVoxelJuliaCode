{
 "cells": [
  {
   "cell_type": "code",
   "execution_count": null,
   "metadata": {},
   "outputs": [],
   "source": [
    "a=-0.50001\n",
    "b=-0.50001\n",
    "c=-0.50001\n",
    "print(\"\"\"\n",
    "  var3=(1/((((shared_arr[threadIdx().x,1]-round(shared_arr[threadIdx().x,1]+(((a+0.00001)/2)) ))^2+(shared_arr[threadIdx().x,2]-round(shared_arr[threadIdx().x,2] +(((b+0.0001)/2))))^2+(shared_arr[threadIdx().x,3]-round(shared_arr[threadIdx().x,3]+(((c+0.0001)/2))))^2)^2  )+0.00000001))#we add a small number to avoid division by 0\n",
    "  var1=var1+var3\n",
    "  var2=var2+(source_arr[Int(round(shared_arr[threadIdx().x,1]+(((a+0.0001)/2))))\n",
    "  ,Int(round(shared_arr[threadIdx().x,2]+(((b+0.0001)/2))))\n",
    "  ,Int(round(shared_arr[threadIdx().x,3]+(((c+0.0001)/2))))]*(var3 ))\n",
    "      \"\"\")"
   ]
  },
  {
   "cell_type": "code",
   "execution_count": null,
   "metadata": {},
   "outputs": [],
   "source": []
  },
  {
   "cell_type": "code",
   "execution_count": null,
   "metadata": {},
   "outputs": [],
   "source": []
  }
 ],
 "metadata": {
  "kernelspec": {
   "display_name": "Julia 1.10.0",
   "language": "julia",
   "name": "julia-1.10"
  },
  "language_info": {
   "file_extension": ".jl",
   "mimetype": "application/julia",
   "name": "julia",
   "version": "1.10.0"
  }
 },
 "nbformat": 4,
 "nbformat_minor": 2
}
